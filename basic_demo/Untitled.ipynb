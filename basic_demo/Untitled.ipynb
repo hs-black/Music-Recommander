{
 "cells": [
  {
   "cell_type": "code",
   "execution_count": 13,
   "id": "b5e8266e",
   "metadata": {
    "tags": []
   },
   "outputs": [],
   "source": [
    "import json\n",
    "dic = {1661: [\"你好\",\"五号\"]}\n"
   ]
  },
  {
   "cell_type": "code",
   "execution_count": 15,
   "id": "25d94ad5-3fc7-41c1-8e5a-8398d314f02b",
   "metadata": {
    "tags": []
   },
   "outputs": [
    {
     "data": {
      "text/plain": [
       "'{\"1661\": [\"\\\\u4f60\\\\u597d\", \"\\\\u4e94\\\\u53f7\"]}'"
      ]
     },
     "execution_count": 15,
     "metadata": {},
     "output_type": "execute_result"
    }
   ],
   "source": [
    "json.dumps(dic)"
   ]
  },
  {
   "cell_type": "code",
   "execution_count": null,
   "id": "29cf1850-09de-4953-b10e-7ec7ff0b785c",
   "metadata": {},
   "outputs": [],
   "source": []
  }
 ],
 "metadata": {
  "kernelspec": {
   "display_name": "Python 3 (ipykernel)",
   "language": "python",
   "name": "python3"
  },
  "language_info": {
   "codemirror_mode": {
    "name": "ipython",
    "version": 3
   },
   "file_extension": ".py",
   "mimetype": "text/x-python",
   "name": "python",
   "nbconvert_exporter": "python",
   "pygments_lexer": "ipython3",
   "version": "3.8.10"
  }
 },
 "nbformat": 4,
 "nbformat_minor": 5
}
